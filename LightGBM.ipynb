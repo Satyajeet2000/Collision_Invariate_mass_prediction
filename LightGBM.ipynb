{
  "cells": [
    {
      "cell_type": "code",
      "execution_count": 1,
      "metadata": {
        "id": "-Ry8VEEBN30j"
      },
      "outputs": [],
      "source": [
        "import pandas as pd\n",
        "from lightgbm import LGBMRegressor\n",
        "from sklearn.metrics import mean_squared_error, r2_score\n",
        "from sklearn.model_selection import train_test_split\n",
        "from sklearn.preprocessing import StandardScaler"
      ]
    },
    {
      "cell_type": "code",
      "execution_count": 2,
      "metadata": {
        "id": "o8Z6EAhoQebM"
      },
      "outputs": [],
      "source": [
        "df=pd.read_csv(\"Dataset.csv\")"
      ]
    },
    {
      "cell_type": "code",
      "execution_count": 3,
      "metadata": {
        "colab": {
          "base_uri": "https://localhost:8080/"
        },
        "id": "2VH0FySTQmBX",
        "outputId": "a6209993-ac92-4e5d-826e-f59c0f7b2c0c"
      },
      "outputs": [
        {
          "data": {
            "text/html": [
              "<div>\n",
              "<style scoped>\n",
              "    .dataframe tbody tr th:only-of-type {\n",
              "        vertical-align: middle;\n",
              "    }\n",
              "\n",
              "    .dataframe tbody tr th {\n",
              "        vertical-align: top;\n",
              "    }\n",
              "\n",
              "    .dataframe thead th {\n",
              "        text-align: right;\n",
              "    }\n",
              "</style>\n",
              "<table border=\"1\" class=\"dataframe\">\n",
              "  <thead>\n",
              "    <tr style=\"text-align: right;\">\n",
              "      <th></th>\n",
              "      <th>E1</th>\n",
              "      <th>px1</th>\n",
              "      <th>py1</th>\n",
              "      <th>pz1</th>\n",
              "      <th>pt1</th>\n",
              "      <th>eta1</th>\n",
              "      <th>phi1</th>\n",
              "      <th>Q1</th>\n",
              "      <th>E2</th>\n",
              "      <th>px2</th>\n",
              "      <th>py2</th>\n",
              "      <th>pz2</th>\n",
              "      <th>pt2</th>\n",
              "      <th>eta2</th>\n",
              "      <th>phi2</th>\n",
              "      <th>Q2</th>\n",
              "      <th>M</th>\n",
              "    </tr>\n",
              "  </thead>\n",
              "  <tbody>\n",
              "    <tr>\n",
              "      <th>0</th>\n",
              "      <td>58.71410</td>\n",
              "      <td>-7.31132</td>\n",
              "      <td>10.531000</td>\n",
              "      <td>-57.29740</td>\n",
              "      <td>12.82020</td>\n",
              "      <td>-2.20267</td>\n",
              "      <td>2.17766</td>\n",
              "      <td>1</td>\n",
              "      <td>11.2836</td>\n",
              "      <td>-1.032340</td>\n",
              "      <td>-1.88066</td>\n",
              "      <td>-11.0778</td>\n",
              "      <td>2.14537</td>\n",
              "      <td>-2.344030</td>\n",
              "      <td>-2.072810</td>\n",
              "      <td>-1</td>\n",
              "      <td>8.94841</td>\n",
              "    </tr>\n",
              "    <tr>\n",
              "      <th>1</th>\n",
              "      <td>6.61188</td>\n",
              "      <td>-4.15213</td>\n",
              "      <td>-0.579855</td>\n",
              "      <td>-5.11278</td>\n",
              "      <td>4.19242</td>\n",
              "      <td>-1.02842</td>\n",
              "      <td>-3.00284</td>\n",
              "      <td>-1</td>\n",
              "      <td>17.1492</td>\n",
              "      <td>-11.713500</td>\n",
              "      <td>5.04474</td>\n",
              "      <td>11.4647</td>\n",
              "      <td>12.75360</td>\n",
              "      <td>0.808077</td>\n",
              "      <td>2.734920</td>\n",
              "      <td>1</td>\n",
              "      <td>15.89300</td>\n",
              "    </tr>\n",
              "    <tr>\n",
              "      <th>2</th>\n",
              "      <td>25.54190</td>\n",
              "      <td>-11.48090</td>\n",
              "      <td>2.041680</td>\n",
              "      <td>22.72460</td>\n",
              "      <td>11.66100</td>\n",
              "      <td>1.42048</td>\n",
              "      <td>2.96560</td>\n",
              "      <td>1</td>\n",
              "      <td>15.8203</td>\n",
              "      <td>-1.472800</td>\n",
              "      <td>2.25895</td>\n",
              "      <td>-15.5888</td>\n",
              "      <td>2.69667</td>\n",
              "      <td>-2.455080</td>\n",
              "      <td>2.148570</td>\n",
              "      <td>1</td>\n",
              "      <td>38.38770</td>\n",
              "    </tr>\n",
              "    <tr>\n",
              "      <th>3</th>\n",
              "      <td>65.39590</td>\n",
              "      <td>7.51214</td>\n",
              "      <td>11.887100</td>\n",
              "      <td>63.86620</td>\n",
              "      <td>14.06190</td>\n",
              "      <td>2.21838</td>\n",
              "      <td>1.00721</td>\n",
              "      <td>1</td>\n",
              "      <td>25.1273</td>\n",
              "      <td>4.087860</td>\n",
              "      <td>2.59641</td>\n",
              "      <td>24.6563</td>\n",
              "      <td>4.84272</td>\n",
              "      <td>2.330210</td>\n",
              "      <td>0.565865</td>\n",
              "      <td>-1</td>\n",
              "      <td>3.72862</td>\n",
              "    </tr>\n",
              "    <tr>\n",
              "      <th>4</th>\n",
              "      <td>61.45040</td>\n",
              "      <td>2.95284</td>\n",
              "      <td>-14.622700</td>\n",
              "      <td>-59.61210</td>\n",
              "      <td>14.91790</td>\n",
              "      <td>-2.09375</td>\n",
              "      <td>-1.37154</td>\n",
              "      <td>-1</td>\n",
              "      <td>13.8871</td>\n",
              "      <td>-0.277757</td>\n",
              "      <td>-2.42560</td>\n",
              "      <td>-13.6708</td>\n",
              "      <td>2.44145</td>\n",
              "      <td>-2.423700</td>\n",
              "      <td>-1.684810</td>\n",
              "      <td>-1</td>\n",
              "      <td>2.74718</td>\n",
              "    </tr>\n",
              "  </tbody>\n",
              "</table>\n",
              "</div>"
            ],
            "text/plain": [
              "         E1      px1         py1       pz1       pt1     eta1     phi1  Q1  \\\n",
              "0  58.71410  -7.31132  10.531000 -57.29740  12.82020 -2.20267  2.17766   1   \n",
              "1   6.61188  -4.15213  -0.579855  -5.11278   4.19242 -1.02842 -3.00284  -1   \n",
              "2  25.54190 -11.48090   2.041680  22.72460  11.66100  1.42048  2.96560   1   \n",
              "3  65.39590   7.51214  11.887100  63.86620  14.06190  2.21838  1.00721   1   \n",
              "4  61.45040   2.95284 -14.622700 -59.61210  14.91790 -2.09375 -1.37154  -1   \n",
              "\n",
              "        E2        px2      py2      pz2       pt2      eta2      phi2  Q2  \\\n",
              "0  11.2836  -1.032340 -1.88066 -11.0778   2.14537 -2.344030 -2.072810  -1   \n",
              "1  17.1492 -11.713500  5.04474  11.4647  12.75360  0.808077  2.734920   1   \n",
              "2  15.8203  -1.472800  2.25895 -15.5888   2.69667 -2.455080  2.148570   1   \n",
              "3  25.1273   4.087860  2.59641  24.6563   4.84272  2.330210  0.565865  -1   \n",
              "4  13.8871  -0.277757 -2.42560 -13.6708   2.44145 -2.423700 -1.684810  -1   \n",
              "\n",
              "          M  \n",
              "0   8.94841  \n",
              "1  15.89300  \n",
              "2  38.38770  \n",
              "3   3.72862  \n",
              "4   2.74718  "
            ]
          },
          "execution_count": 3,
          "metadata": {},
          "output_type": "execute_result"
        }
      ],
      "source": [
        "df.head()"
      ]
    },
    {
      "cell_type": "code",
      "execution_count": 4,
      "metadata": {
        "id": "bL3bernDY_go"
      },
      "outputs": [],
      "source": [
        "x = df.drop(\"M\",axis=1)\n",
        "y = df[\"M\"]\n",
        "\n",
        "scaler = StandardScaler()\n",
        "x = scaler.fit_transform(x)\n",
        "\n",
        "x_Train,x_Test,y_Train,y_Test = train_test_split(x,y,test_size=0.3,random_state=0)"
      ]
    },
    {
      "cell_type": "code",
      "execution_count": 5,
      "metadata": {
        "colab": {
          "base_uri": "https://localhost:8080/"
        },
        "id": "xT9mTfzkZ5LS",
        "outputId": "917cda34-abb2-499b-a582-a17985371f4f"
      },
      "outputs": [
        {
          "name": "stdout",
          "output_type": "stream",
          "text": [
            "[LightGBM] [Info] Auto-choosing col-wise multi-threading, the overhead of testing was 0.003111 seconds.\n",
            "You can set `force_col_wise=true` to remove the overhead.\n",
            "[LightGBM] [Info] Total Bins 3576\n",
            "[LightGBM] [Info] Number of data points in the train set: 69940, number of used features: 16\n",
            "[LightGBM] [Info] Start training from score 30.114530\n"
          ]
        }
      ],
      "source": [
        "lgbm_model = LGBMRegressor().fit(x_Train,y_Train)"
      ]
    },
    {
      "cell_type": "code",
      "execution_count": 6,
      "metadata": {
        "id": "z7o7V23sbXhA"
      },
      "outputs": [],
      "source": [
        "Y_pred = lgbm_model.predict(x_Test)"
      ]
    },
    {
      "cell_type": "code",
      "execution_count": 7,
      "metadata": {
        "colab": {
          "base_uri": "https://localhost:8080/"
        },
        "id": "zPd9g2JSbO3x",
        "outputId": "ac54f9ba-68fe-43c3-cdbb-9b2f44af7e4e"
      },
      "outputs": [
        {
          "name": "stdout",
          "output_type": "stream",
          "text": [
            "Mean Squared Error: 28.147656307732426\n",
            "R2 Score: 0.9555164692425867\n"
          ]
        }
      ],
      "source": [
        "print(\"Mean Squared Error:\", mean_squared_error(y_Test, Y_pred))\n",
        "print(\"R2 Score:\", r2_score(y_Test, Y_pred))"
      ]
    }
  ],
  "metadata": {
    "colab": {
      "provenance": []
    },
    "kernelspec": {
      "display_name": "Python 3",
      "name": "python3"
    },
    "language_info": {
      "codemirror_mode": {
        "name": "ipython",
        "version": 3
      },
      "file_extension": ".py",
      "mimetype": "text/x-python",
      "name": "python",
      "nbconvert_exporter": "python",
      "pygments_lexer": "ipython3",
      "version": "3.9.1"
    }
  },
  "nbformat": 4,
  "nbformat_minor": 0
}

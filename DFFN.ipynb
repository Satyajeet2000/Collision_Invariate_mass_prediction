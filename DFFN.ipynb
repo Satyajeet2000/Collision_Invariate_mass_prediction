{
 "cells": [
  {
   "cell_type": "code",
   "execution_count": 1,
   "metadata": {},
   "outputs": [
    {
     "name": "stderr",
     "output_type": "stream",
     "text": [
      "c:\\Users\\varad\\AppData\\Local\\Programs\\Python\\Python39\\lib\\site-packages\\requests\\__init__.py:102: RequestsDependencyWarning: urllib3 (1.26.11) or chardet (5.0.0)/charset_normalizer (2.0.12) doesn't match a supported version!\n",
      "  warnings.warn(\"urllib3 ({}) or chardet ({})/charset_normalizer ({}) doesn't match a supported \"\n"
     ]
    }
   ],
   "source": [
    "import tensorflow as tf\n",
    "from tensorflow.keras.models import Sequential\n",
    "from tensorflow.keras.layers import Dense, Dropout\n",
    "import numpy as np\n",
    "import pandas as pd\n",
    "from sklearn.model_selection import train_test_split\n",
    "from sklearn.metrics import mean_squared_error, r2_score"
   ]
  },
  {
   "cell_type": "code",
   "execution_count": 2,
   "metadata": {},
   "outputs": [],
   "source": [
    "Data = pd.read_csv(\"Dataset.csv\")"
   ]
  },
  {
   "cell_type": "code",
   "execution_count": 3,
   "metadata": {},
   "outputs": [],
   "source": [
    "X = Data.iloc[:,:-1]\n",
    "Y = Data.iloc[:,-1]\n",
    "X_train, X_test, Y_train, Y_test = train_test_split(X, Y, test_size=0.3, random_state=0)"
   ]
  },
  {
   "cell_type": "code",
   "execution_count": 4,
   "metadata": {},
   "outputs": [
    {
     "name": "stdout",
     "output_type": "stream",
     "text": [
      "Epoch 1/50\n",
      "1749/1749 [==============================] - 3s 1ms/step - loss: 54.6446 - val_loss: 11.3009\n",
      "Epoch 2/50\n",
      "1749/1749 [==============================] - 2s 1ms/step - loss: 12.9126 - val_loss: 9.5782\n",
      "Epoch 3/50\n",
      "1749/1749 [==============================] - 2s 1ms/step - loss: 9.9875 - val_loss: 13.6392\n",
      "Epoch 4/50\n",
      "1749/1749 [==============================] - 2s 1ms/step - loss: 8.8508 - val_loss: 18.1158\n",
      "Epoch 5/50\n",
      "1749/1749 [==============================] - 2s 1ms/step - loss: 7.6409 - val_loss: 3.9339\n",
      "Epoch 6/50\n",
      "1749/1749 [==============================] - 2s 976us/step - loss: 5.5978 - val_loss: 5.0580\n",
      "Epoch 7/50\n",
      "1749/1749 [==============================] - 2s 986us/step - loss: 4.4487 - val_loss: 3.5888\n",
      "Epoch 8/50\n",
      "1749/1749 [==============================] - 2s 966us/step - loss: 4.8469 - val_loss: 3.5052\n",
      "Epoch 9/50\n",
      "1749/1749 [==============================] - 2s 1ms/step - loss: 3.8972 - val_loss: 3.3250\n",
      "Epoch 10/50\n",
      "1749/1749 [==============================] - 2s 979us/step - loss: 3.8820 - val_loss: 8.5809\n",
      "Epoch 11/50\n",
      "1749/1749 [==============================] - 2s 1ms/step - loss: 3.7164 - val_loss: 2.1945\n",
      "Epoch 12/50\n",
      "1749/1749 [==============================] - 2s 975us/step - loss: 3.0661 - val_loss: 3.7525\n",
      "Epoch 13/50\n",
      "1749/1749 [==============================] - 2s 1ms/step - loss: 2.8271 - val_loss: 4.7533\n",
      "Epoch 14/50\n",
      "1749/1749 [==============================] - 2s 952us/step - loss: 2.3695 - val_loss: 1.8959\n",
      "Epoch 15/50\n",
      "1749/1749 [==============================] - 2s 974us/step - loss: 2.8359 - val_loss: 2.1668\n",
      "Epoch 16/50\n",
      "1749/1749 [==============================] - 2s 1ms/step - loss: 1.9844 - val_loss: 1.4406\n",
      "Epoch 17/50\n",
      "1749/1749 [==============================] - 2s 1ms/step - loss: 2.5483 - val_loss: 2.7012\n",
      "Epoch 18/50\n",
      "1749/1749 [==============================] - 2s 1ms/step - loss: 2.2074 - val_loss: 1.6450\n",
      "Epoch 19/50\n",
      "1749/1749 [==============================] - 2s 1ms/step - loss: 2.6010 - val_loss: 2.4271\n",
      "Epoch 20/50\n",
      "1749/1749 [==============================] - 2s 1ms/step - loss: 1.7268 - val_loss: 1.4923\n",
      "Epoch 21/50\n",
      "1749/1749 [==============================] - 2s 1ms/step - loss: 1.8819 - val_loss: 2.0991\n",
      "Epoch 22/50\n",
      "1749/1749 [==============================] - 2s 1ms/step - loss: 2.2835 - val_loss: 1.5574\n",
      "Epoch 23/50\n",
      "1749/1749 [==============================] - 2s 974us/step - loss: 1.6224 - val_loss: 1.6249\n",
      "Epoch 24/50\n",
      "1749/1749 [==============================] - 2s 1ms/step - loss: 1.9562 - val_loss: 1.3749\n",
      "Epoch 25/50\n",
      "1749/1749 [==============================] - 2s 961us/step - loss: 1.8041 - val_loss: 0.9779\n",
      "Epoch 26/50\n",
      "1749/1749 [==============================] - 2s 996us/step - loss: 1.6037 - val_loss: 1.2425\n",
      "Epoch 27/50\n",
      "1749/1749 [==============================] - 2s 955us/step - loss: 1.4987 - val_loss: 1.1044\n",
      "Epoch 28/50\n",
      "1749/1749 [==============================] - 2s 999us/step - loss: 1.4557 - val_loss: 1.3756\n",
      "Epoch 29/50\n",
      "1749/1749 [==============================] - 2s 983us/step - loss: 1.4005 - val_loss: 3.2521\n",
      "Epoch 30/50\n",
      "1749/1749 [==============================] - 2s 997us/step - loss: 1.4387 - val_loss: 1.4085\n",
      "Epoch 31/50\n",
      "1749/1749 [==============================] - 2s 969us/step - loss: 1.3898 - val_loss: 1.4963\n",
      "Epoch 32/50\n",
      "1749/1749 [==============================] - 2s 967us/step - loss: 1.5991 - val_loss: 1.0747\n",
      "Epoch 33/50\n",
      "1749/1749 [==============================] - 2s 1ms/step - loss: 1.4400 - val_loss: 6.5088\n",
      "Epoch 34/50\n",
      "1749/1749 [==============================] - 2s 961us/step - loss: 1.4855 - val_loss: 2.6280\n",
      "Epoch 35/50\n",
      "1749/1749 [==============================] - 2s 1ms/step - loss: 1.1778 - val_loss: 4.1072\n",
      "Epoch 36/50\n",
      "1749/1749 [==============================] - 2s 963us/step - loss: 1.4968 - val_loss: 0.8447\n",
      "Epoch 37/50\n",
      "1749/1749 [==============================] - 2s 1ms/step - loss: 1.0566 - val_loss: 1.3903\n",
      "Epoch 38/50\n",
      "1749/1749 [==============================] - 2s 1ms/step - loss: 1.7000 - val_loss: 0.9267\n",
      "Epoch 39/50\n",
      "1749/1749 [==============================] - 2s 992us/step - loss: 1.0248 - val_loss: 1.3605\n",
      "Epoch 40/50\n",
      "1749/1749 [==============================] - 2s 968us/step - loss: 1.0713 - val_loss: 1.1123\n",
      "Epoch 41/50\n",
      "1749/1749 [==============================] - 2s 1ms/step - loss: 1.1715 - val_loss: 1.8505\n",
      "Epoch 42/50\n",
      "1749/1749 [==============================] - 2s 971us/step - loss: 1.2156 - val_loss: 1.1623\n",
      "Epoch 43/50\n",
      "1749/1749 [==============================] - 2s 1ms/step - loss: 1.0633 - val_loss: 1.8068\n",
      "Epoch 44/50\n",
      "1749/1749 [==============================] - 2s 960us/step - loss: 1.0380 - val_loss: 1.4381\n",
      "Epoch 45/50\n",
      "1749/1749 [==============================] - 2s 969us/step - loss: 1.1628 - val_loss: 0.8255\n",
      "Epoch 46/50\n",
      "1749/1749 [==============================] - 2s 994us/step - loss: 1.0073 - val_loss: 1.2431\n",
      "Epoch 47/50\n",
      "1749/1749 [==============================] - 2s 972us/step - loss: 1.0698 - val_loss: 0.8042\n",
      "Epoch 48/50\n",
      "1749/1749 [==============================] - 2s 987us/step - loss: 0.8632 - val_loss: 0.6365\n",
      "Epoch 49/50\n",
      "1749/1749 [==============================] - 2s 986us/step - loss: 1.1704 - val_loss: 1.1480\n",
      "Epoch 50/50\n",
      "1749/1749 [==============================] - 2s 991us/step - loss: 0.9524 - val_loss: 2.6275\n",
      "937/937 [==============================] - 1s 631us/step\n",
      "Mean Squared Error: 2.65248457869645\n",
      "R2 Score: 0.9958081099879141\n"
     ]
    }
   ],
   "source": [
    "model = Sequential()\n",
    "\n",
    "model.add(Dense(192, input_dim=X_train.shape[1], activation='relu'))\n",
    "model.add(Dense(128, activation='relu'))\n",
    "model.add(Dropout(0))\n",
    "model.add(Dense(1, activation='linear'))\n",
    "\n",
    "\n",
    "model.compile(optimizer='adam', loss=\"mean_squared_error\")\n",
    "\n",
    "model.fit(X_train, Y_train, epochs=50, batch_size=32, validation_split=0.2)\n",
    "\n",
    "Y_pred = model.predict(X_test)\n",
    "print(\"Mean Squared Error:\", mean_squared_error(Y_test, Y_pred))\n",
    "print(\"R2 Score:\", r2_score(Y_test, Y_pred))\n"
   ]
  }
 ],
 "metadata": {
  "kernelspec": {
   "display_name": "Python 3",
   "language": "python",
   "name": "python3"
  },
  "language_info": {
   "codemirror_mode": {
    "name": "ipython",
    "version": 3
   },
   "file_extension": ".py",
   "mimetype": "text/x-python",
   "name": "python",
   "nbconvert_exporter": "python",
   "pygments_lexer": "ipython3",
   "version": "3.9.1"
  }
 },
 "nbformat": 4,
 "nbformat_minor": 2
}
